{
 "cells": [
  {
   "cell_type": "code",
   "execution_count": 1,
   "id": "ef40f188",
   "metadata": {},
   "outputs": [],
   "source": [
    "import nltk\n",
    "from nltk.stem import PorterStemmer\n",
    "from nltk.tokenize import word_tokenize\n",
    "\n",
    "# Inisialisasi stemmer\n",
    "stemmer = PorterStemmer()\n",
    "\n",
    "def stem_english(text):\n",
    "    words = nltk.word_tokenize(text)\n",
    "    return ' '.join([stemmer.stem(word) for word in words])"
   ]
  },
  {
   "cell_type": "code",
   "execution_count": 2,
   "id": "386553b8",
   "metadata": {},
   "outputs": [
    {
     "name": "stdout",
     "output_type": "stream",
     "text": [
      "Stemming selesai untuk semua file.\n"
     ]
    }
   ],
   "source": [
    "import os\n",
    "\n",
    "# Folder input dan output\n",
    "input_folder = 'english texts'\n",
    "output_folder = 'english stemmed output'\n",
    "\n",
    "# Fungsi stemming per file\n",
    "def stem_file(file_path):\n",
    "    with open(file_path, 'r', encoding='utf-8') as file:\n",
    "        text = file.read()\n",
    "        tokens = word_tokenize(text)\n",
    "        stemmed_words = [stemmer.stem(word) for word in tokens]\n",
    "        return ' '.join(stemmed_words)\n",
    "\n",
    "# Proses semua file di folder\n",
    "for filename in os.listdir(input_folder):\n",
    "    if filename.endswith(\".txt\"):\n",
    "        input_path = os.path.join(input_folder, filename)\n",
    "        stemmed_text = stem_file(input_path)\n",
    "        \n",
    "        output_path = os.path.join(output_folder, filename)\n",
    "        with open(output_path, 'w', encoding='utf-8') as output_file:\n",
    "            output_file.write(stemmed_text)\n",
    "\n",
    "print(\"Stemming selesai untuk semua file.\")\n"
   ]
  },
  {
   "cell_type": "code",
   "execution_count": 3,
   "id": "25fe4b6f",
   "metadata": {},
   "outputs": [
    {
     "name": "stdout",
     "output_type": "stream",
     "text": [
      "Total words: 38710\n",
      "Unique stems: 5004\n",
      "Mean Word Conflation (MWC): 7.74\n"
     ]
    }
   ],
   "source": [
    "## Hitung Mean Word Conflation (MWC)\n",
    "from collections import Counter\n",
    "import nltk\n",
    "from nltk.tokenize import word_tokenize\n",
    "\n",
    "all_words = []\n",
    "all_stemmed = []\n",
    "\n",
    "# Loop file\n",
    "for filename in os.listdir(input_folder):\n",
    "    if filename.endswith(\".txt\"):\n",
    "        with open(os.path.join(input_folder, filename), 'r', encoding='utf-8') as file:\n",
    "            text = file.read()\n",
    "            tokens = word_tokenize(text.lower())\n",
    "            all_words.extend(tokens)\n",
    "            stemmed = [stemmer.stem(w) for w in tokens]\n",
    "            all_stemmed.extend(stemmed)\n",
    "\n",
    "total_words = len(all_words)\n",
    "unique_stems = len(set(all_stemmed))\n",
    "MWC = total_words / unique_stems if unique_stems != 0 else 0\n",
    "\n",
    "print(f\"Total words: {total_words}\")\n",
    "print(f\"Unique stems: {unique_stems}\")\n",
    "print(f\"Mean Word Conflation (MWC): {MWC:.2f}\")"
   ]
  }
 ],
 "metadata": {
  "kernelspec": {
   "display_name": "Python 3",
   "language": "python",
   "name": "python3"
  },
  "language_info": {
   "codemirror_mode": {
    "name": "ipython",
    "version": 3
   },
   "file_extension": ".py",
   "mimetype": "text/x-python",
   "name": "python",
   "nbconvert_exporter": "python",
   "pygments_lexer": "ipython3",
   "version": "3.10.11"
  }
 },
 "nbformat": 4,
 "nbformat_minor": 5
}
